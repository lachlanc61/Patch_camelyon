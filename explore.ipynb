{
 "cells": [
  {
   "cell_type": "code",
   "execution_count": null,
   "metadata": {},
   "outputs": [],
   "source": [
    "import src.utils as utils\n",
    "\n",
    "utils.readyaml('config.yaml')"
   ]
  }
 ],
 "metadata": {
  "kernelspec": {
   "display_name": "Python 3.7.13 64-bit ('venv_patchcam')",
   "language": "python",
   "name": "python3"
  },
  "language_info": {
   "name": "python",
   "version": "3.7.13"
  },
  "orig_nbformat": 4,
  "vscode": {
   "interpreter": {
    "hash": "77574a2eb40d68b0ab187ac81eb83b9d7d84aa6a26feab2dbd48e8a77088fb95"
   }
  }
 },
 "nbformat": 4,
 "nbformat_minor": 2
}
